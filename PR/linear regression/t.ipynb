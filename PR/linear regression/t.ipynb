{
  "cells": [
    {
      "cell_type": "markdown",
      "metadata": {},
      "source": [
        "# Learning Curve Calculation\n",
        "\n",
        "This notebook demonstrates how to convert a learning curve into a numerical value using the learning curve formula.\n"
      ]
    },
    {
      "cell_type": "code",
      "execution_count": null,
      "metadata": {},
      "outputs": [],
      "source": [
        "# Import necessary libraries\n",
        "import numpy as np\n",
        "\n",
        "# Given values\n",
        "a = 1000  # initial time in hours\n",
        "LR = 0.80  # learning rate\n",
        "X = 4  # cumulative number of units produced\n",
        "\n",
        "# Calculate b\n",
        "b = np.log(LR) / np.log(2)\n",
        "\n",
        "# Calculate Y using the learning curve formula\n",
        "Y = a * (X ** b)\n",
        "\n",
        "# Output result\n",
        "Y"
      ]
    }
  ],
  "metadata": {
    "kernelspec": {
      "display_name": "Python 3",
      "language": "python",
      "name": "python3"
    },
    "language_info": {
      "codemirror_mode": {
        "name": "ipython3"
      },
      "file_extension": ".py",
      "mimetype": "text/x-python",
      "name": "python",
      "nbconvert_exporter": "python"
    }
  },
  "nbformat": 4,
  "nbformat_minor": 5
}
