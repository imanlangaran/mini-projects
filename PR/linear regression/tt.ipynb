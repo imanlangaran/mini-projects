{
 "cells": [
  {
   "cell_type": "code",
   "execution_count": 19,
   "metadata": {},
   "outputs": [],
   "source": [
    "nomre = 20\n"
   ]
  },
  {
   "cell_type": "code",
   "execution_count": null,
   "metadata": {},
   "outputs": [],
   "source": [
    "\n",
    "# > 20 invalid\n",
    "# 18 20 khoob\n",
    "# 15 18 qabel qabool\n",
    "# < 15 talash"
   ]
  },
  {
   "cell_type": "code",
   "execution_count": null,
   "metadata": {},
   "outputs": [
    {
     "name": "stdout",
     "output_type": "stream",
     "text": [
      "talash\n"
     ]
    }
   ],
   "source": [
    "nomre = int(input('nomrato begoo : '))\n",
    "if nomre > 20 : \n",
    "  print(\"na motabar\")\n",
    "elif nomre < 20 and nomre > 18 :\n",
    "  print(\"khoob\")\n",
    "elif nomre < 18 and nomre > 15 :\n",
    "  print(\"qabool\")\n",
    "elif nomre < 15 :\n",
    "  print(\"talash\")\n",
    "  "
   ]
  },
  {
   "cell_type": "code",
   "execution_count": null,
   "metadata": {},
   "outputs": [],
   "source": [
    "# gheimat \n",
    "# <200 arzoon\n",
    "# >200 <300 khoob\n",
    "# >300 <500 kh kh\n",
    "# > 500 awli"
   ]
  },
  {
   "cell_type": "code",
   "execution_count": 47,
   "metadata": {},
   "outputs": [
    {
     "name": "stdout",
     "output_type": "stream",
     "text": [
      "awli\n"
     ]
    }
   ],
   "source": [
    "gheimat = int(input('gheimato begoo : ' ))\n",
    "if gheimat <= 200 :\n",
    "  print(\"arzoon\")\n",
    "elif gheimat > 200 and gheimat <= 300 :\n",
    "  print(\"khoob\")\n",
    "elif gheimat > 300 and gheimat <= 500 : \n",
    "  print(\"kh kh\")\n",
    "elif  gheimat > 500 : \n",
    "  print(\"awli\")"
   ]
  }
 ],
 "metadata": {
  "kernelspec": {
   "display_name": "base",
   "language": "python",
   "name": "python3"
  },
  "language_info": {
   "codemirror_mode": {
    "name": "ipython",
    "version": 3
   },
   "file_extension": ".py",
   "mimetype": "text/x-python",
   "name": "python",
   "nbconvert_exporter": "python",
   "pygments_lexer": "ipython3",
   "version": "3.9.12"
  }
 },
 "nbformat": 4,
 "nbformat_minor": 2
}
