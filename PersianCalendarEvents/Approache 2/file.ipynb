{
 "cells": [
  {
   "cell_type": "code",
   "execution_count": null,
   "metadata": {},
   "outputs": [
    {
     "name": "stdout",
     "output_type": "stream",
     "text": [
      "Collecting jdatetime\n",
      "  Downloading jdatetime-5.2.0-py3-none-any.whl.metadata (5.6 kB)\n",
      "Collecting jalali-core>=1.0 (from jdatetime)\n",
      "  Downloading jalali_core-1.0.0-py3-none-any.whl.metadata (738 bytes)\n",
      "Downloading jdatetime-5.2.0-py3-none-any.whl (12 kB)\n",
      "Downloading jalali_core-1.0.0-py3-none-any.whl (3.6 kB)\n",
      "Installing collected packages: jalali-core, jdatetime\n",
      "Successfully installed jalali-core-1.0.0 jdatetime-5.2.0\n",
      "Note: you may need to restart the kernel to use updated packages.\n"
     ]
    }
   ],
   "source": [
    "# install the icalendar module\n",
    "# %pip install icalendar\n",
    "# %pip install jdatetime"
   ]
  },
  {
   "cell_type": "code",
   "execution_count": 1,
   "metadata": {},
   "outputs": [],
   "source": [
    "from icalendar import Calendar, Event\n",
    "from datetime import datetime, timedelta\n",
    "import json"
   ]
  },
  {
   "cell_type": "code",
   "execution_count": 2,
   "metadata": {},
   "outputs": [],
   "source": [
    "year = 1403\n",
    "yearsAfter = 2\n",
    "fileName = f'PersianEvents_{year}'"
   ]
  },
  {
   "cell_type": "code",
   "execution_count": 3,
   "metadata": {},
   "outputs": [],
   "source": [
    "def parse_holidays_json():\n",
    "    # Read data from holidays.json\n",
    "    with open('holidays.json', 'r', encoding='utf-8') as file:\n",
    "        data = json.load(file)\n",
    "    \n",
    "    # Return the dictionary containing all calendar holidays\n",
    "    return {\n",
    "        'persian': data['PersianCalendarHolidays'],\n",
    "        'hijri': data['HijriCalendarHolidays'], \n",
    "        'gregorian': data['GregorianCalendarHolidays']\n",
    "    }"
   ]
  },
  {
   "cell_type": "code",
   "execution_count": 21,
   "metadata": {},
   "outputs": [],
   "source": [
    "calDesc = {\n",
    "  'Iran': 'تقویم فارسی',\n",
    "  'Islamic Iran':'تقویم اسلامی',\n",
    "  'Global':'تقویم جهانی',\n",
    "  'Ancient Iran':'تقویم باستانی',\n",
    "}"
   ]
  },
  {
   "cell_type": "code",
   "execution_count": 4,
   "metadata": {},
   "outputs": [
    {
     "name": "stdout",
     "output_type": "stream",
     "text": [
      "Persian Calendar Holidays Sample:\n",
      "{'holiday': True, 'month': 1, 'day': 1, 'type': 'Iran', 'title': 'آغاز عید نوروز'}\n",
      "{'holiday': True, 'month': 1, 'day': 2, 'type': 'Iran', 'title': 'عید نوروز'}\n",
      "{'holiday': False, 'month': 1, 'day': 2, 'type': 'Iran', 'title': 'هجوم به مدرسهٔ فیضیهٔ قم (۱۳۴۲ ه\\u200d.ش)'}\n",
      "\n",
      "Hijri Calendar Holidays Sample:\n",
      "{'holiday': False, 'month': 1, 'day': 1, 'type': 'Islamic Iran', 'title': 'آغاز سال هجری قمری'}\n",
      "{'holiday': True, 'month': 1, 'day': 9, 'type': 'Islamic Iran', 'title': 'تاسوعای حسینی'}\n",
      "{'holiday': True, 'month': 1, 'day': 10, 'type': 'Islamic Iran', 'title': 'عاشورای حسینی'}\n",
      "\n",
      "Gregorian Calendar Holidays Sample:\n",
      "{'holiday': False, 'month': 1, 'day': 1, 'type': 'Global', 'title': 'آغاز سال میلادی'}\n",
      "{'holiday': False, 'month': 1, 'day': 2, 'type': 'Global', 'title': 'روز جهانی گمرک'}\n",
      "{'holiday': False, 'month': 2, 'day': 4, 'type': 'Global', 'title': 'روز جهانی سرطان'}\n"
     ]
    }
   ],
   "source": [
    "# Parse and get the holiday data \n",
    "holidays = parse_holidays_json()\n",
    "\n",
    "# Print some sample data\n",
    "print(\"Persian Calendar Holidays Sample:\")\n",
    "for h in holidays['persian'][:3]:\n",
    "    print(h)\n",
    "\n",
    "print(\"\\nHijri Calendar Holidays Sample:\") \n",
    "for h in holidays['hijri'][:3]:\n",
    "    print(h)\n",
    "\n",
    "print(\"\\nGregorian Calendar Holidays Sample:\")\n",
    "for h in holidays['gregorian'][:3]:\n",
    "    print(h)"
   ]
  },
  {
   "cell_type": "code",
   "execution_count": 20,
   "metadata": {},
   "outputs": [
    {
     "name": "stdout",
     "output_type": "stream",
     "text": [
      "Unique types in the calendar:\n",
      "- Ancient Iran\n",
      "- Global\n",
      "- Iran\n",
      "- Islamic Iran\n"
     ]
    }
   ],
   "source": [
    "import json\n",
    "from collections import Counter\n",
    "\n",
    "# Read the JSON file\n",
    "with open('holidays.json', 'r', encoding='utf-8') as file:\n",
    "    data = json.load(file)\n",
    "\n",
    "# Initialize a set to store unique types\n",
    "unique_types = set()\n",
    "\n",
    "# Extract types from each calendar section\n",
    "for calendar in data.values():  # Iterates through PersianCalendarHolidays, HijriCalendarHolidays, etc.\n",
    "    for event in calendar:\n",
    "        unique_types.add(event['type'])\n",
    "\n",
    "# Print the unique types\n",
    "print(\"Unique types in the calendar:\")\n",
    "for type_name in sorted(unique_types):\n",
    "    print(f\"- {type_name}\")"
   ]
  },
  {
   "cell_type": "code",
   "execution_count": 24,
   "metadata": {},
   "outputs": [
    {
     "name": "stdout",
     "output_type": "stream",
     "text": [
      "1403 10 31 day is out of range for month\n"
     ]
    },
    {
     "ename": "ValueError",
     "evalue": "day is out of range for month",
     "output_type": "error",
     "traceback": [
      "\u001b[0;31m---------------------------------------------------------------------------\u001b[0m",
      "\u001b[0;31mValueError\u001b[0m                                Traceback (most recent call last)",
      "Input \u001b[0;32mIn [24]\u001b[0m, in \u001b[0;36m<cell line: 7>\u001b[0;34m()\u001b[0m\n\u001b[1;32m     24\u001b[0m     \u001b[38;5;28mprint\u001b[39m(thisYear, ev[\u001b[38;5;124m'\u001b[39m\u001b[38;5;124mmonth\u001b[39m\u001b[38;5;124m'\u001b[39m], ev[\u001b[38;5;124m'\u001b[39m\u001b[38;5;124mday\u001b[39m\u001b[38;5;124m'\u001b[39m], e)\n\u001b[1;32m     25\u001b[0m     \u001b[38;5;66;03m# continue\u001b[39;00m\n\u001b[0;32m---> 26\u001b[0m jalali_date \u001b[38;5;241m=\u001b[39m \u001b[43mjdatetime\u001b[49m\u001b[38;5;241;43m.\u001b[39;49m\u001b[43mdate\u001b[49m\u001b[43m(\u001b[49m\u001b[43mthisYear\u001b[49m\u001b[43m,\u001b[49m\u001b[43m \u001b[49m\u001b[43mev\u001b[49m\u001b[43m[\u001b[49m\u001b[38;5;124;43m'\u001b[39;49m\u001b[38;5;124;43mmonth\u001b[39;49m\u001b[38;5;124;43m'\u001b[39;49m\u001b[43m]\u001b[49m\u001b[43m,\u001b[49m\u001b[43m \u001b[49m\u001b[43mev\u001b[49m\u001b[43m[\u001b[49m\u001b[38;5;124;43m'\u001b[39;49m\u001b[38;5;124;43mday\u001b[39;49m\u001b[38;5;124;43m'\u001b[39;49m\u001b[43m]\u001b[49m\u001b[43m)\u001b[49m\n\u001b[1;32m     27\u001b[0m gregorian_date \u001b[38;5;241m=\u001b[39m jalali_date\u001b[38;5;241m.\u001b[39mtogregorian()\n\u001b[1;32m     28\u001b[0m event\u001b[38;5;241m.\u001b[39madd(\u001b[38;5;124m'\u001b[39m\u001b[38;5;124mdtstart\u001b[39m\u001b[38;5;124m'\u001b[39m, gregorian_date)\n",
      "File \u001b[0;32m~/opt/anaconda3/lib/python3.9/site-packages/jdatetime/__init__.py:253\u001b[0m, in \u001b[0;36mdate.__init__\u001b[0;34m(self, year, month, day, **kwargs)\u001b[0m\n\u001b[1;32m    251\u001b[0m     \u001b[38;5;28;01mraise\u001b[39;00m \u001b[38;5;167;01mValueError\u001b[39;00m(\u001b[38;5;124m\"\u001b[39m\u001b[38;5;124mday is out of range for month\u001b[39m\u001b[38;5;124m\"\u001b[39m)\n\u001b[1;32m    252\u001b[0m \u001b[38;5;28;01melif\u001b[39;00m day \u001b[38;5;241m>\u001b[39m j_days_in_month[\u001b[38;5;28mself\u001b[39m\u001b[38;5;241m.\u001b[39m__month \u001b[38;5;241m-\u001b[39m \u001b[38;5;241m1\u001b[39m]:\n\u001b[0;32m--> 253\u001b[0m     \u001b[38;5;28;01mraise\u001b[39;00m \u001b[38;5;167;01mValueError\u001b[39;00m(\u001b[38;5;124m\"\u001b[39m\u001b[38;5;124mday is out of range for month\u001b[39m\u001b[38;5;124m\"\u001b[39m)\n\u001b[1;32m    254\u001b[0m \u001b[38;5;28mself\u001b[39m\u001b[38;5;241m.\u001b[39m__day \u001b[38;5;241m=\u001b[39m day\n\u001b[1;32m    255\u001b[0m \u001b[38;5;28mself\u001b[39m\u001b[38;5;241m.\u001b[39m__locale \u001b[38;5;241m=\u001b[39m kwargs[\u001b[38;5;124m'\u001b[39m\u001b[38;5;124mlocale\u001b[39m\u001b[38;5;124m'\u001b[39m] \u001b[38;5;28;01mif\u001b[39;00m (\u001b[38;5;124m'\u001b[39m\u001b[38;5;124mlocale\u001b[39m\u001b[38;5;124m'\u001b[39m \u001b[38;5;129;01min\u001b[39;00m kwargs \u001b[38;5;129;01mand\u001b[39;00m kwargs[\u001b[38;5;124m'\u001b[39m\u001b[38;5;124mlocale\u001b[39m\u001b[38;5;124m'\u001b[39m]) \u001b[38;5;28;01melse\u001b[39;00m get_locale()\n",
      "\u001b[0;31mValueError\u001b[0m: day is out of range for month"
     ]
    }
   ],
   "source": [
    "import jdatetime\n",
    "\n",
    "# Create a calendar\n",
    "cal = Calendar()\n",
    "\n",
    "# Add events to the calendar\n",
    "for thisYear in range(year, year + yearsAfter):\n",
    "    for key, value in holidays.items():\n",
    "        for ev in holidays[key]:\n",
    "            # print(ev[\"title\"], thisYear, ev[\"month\"], ev[\"day\"], ev[\"type\"], ev[\"holiday\"])\n",
    "            # break\n",
    "\n",
    "            # ev[\"title\"]  # summary\n",
    "            # year, ev[\"month\"], ev[\"day\"]  # dtstart, dtend\n",
    "            # ev[\"type\"]  # description\n",
    "            # ev[\"holiday\"]  # color\n",
    "\n",
    "            event = Event()\n",
    "            event.add('summary', ev['title'])\n",
    "            # Convert Jalali date to Gregorian date\n",
    "            try:\n",
    "                jalali_date = jdatetime.date(thisYear, ev['month'], ev['day'])\n",
    "            except ValueError as e:\n",
    "                print(thisYear, ev['month'], ev['day'], e)\n",
    "                # continue\n",
    "            jalali_date = jdatetime.date(thisYear, ev['month'], ev['day'])\n",
    "            gregorian_date = jalali_date.togregorian()\n",
    "            event.add('dtstart', gregorian_date)\n",
    "            event.add('dtend', gregorian_date+timedelta(days=1))\n",
    "            event.add('description', calDesc[ev['type']])\n",
    "            \n",
    "            if ev['holiday']:\n",
    "                event.add('color','red')\n",
    "            \n",
    "\n",
    "            # print(event)\n",
    "            # break\n",
    "            cal.add_component(event)"
   ]
  },
  {
   "cell_type": "code",
   "execution_count": null,
   "metadata": {},
   "outputs": [],
   "source": [
    "# Save the calendar to a file\n",
    "with open(f'{fileName}.ics', 'wb') as cal_file:\n",
    "  cal_file.write(cal.to_ical())"
   ]
  }
 ],
 "metadata": {
  "kernelspec": {
   "display_name": "venv",
   "language": "python",
   "name": "python3"
  },
  "language_info": {
   "codemirror_mode": {
    "name": "ipython",
    "version": 3
   },
   "file_extension": ".py",
   "mimetype": "text/x-python",
   "name": "python",
   "nbconvert_exporter": "python",
   "pygments_lexer": "ipython3",
   "version": "3.13.1"
  }
 },
 "nbformat": 4,
 "nbformat_minor": 2
}
