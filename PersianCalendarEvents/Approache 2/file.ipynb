{
 "cells": [
  {
   "cell_type": "code",
   "execution_count": 2,
   "metadata": {},
   "outputs": [],
   "source": [
    "# install the icalendar module\n",
    "# %pip install icalendar"
   ]
  },
  {
   "cell_type": "code",
   "execution_count": null,
   "metadata": {},
   "outputs": [],
   "source": [
    "from icalendar import Calendar, Event\n",
    "from datetime import datetime, timedelta\n",
    "import json"
   ]
  },
  {
   "cell_type": "code",
   "execution_count": 1,
   "metadata": {},
   "outputs": [],
   "source": [
    "year = 1403\n",
    "fileName = f'PersianEvents_{year}'"
   ]
  },
  {
   "cell_type": "code",
   "execution_count": null,
   "metadata": {},
   "outputs": [],
   "source": [
    "def parse_holidays_json():\n",
    "    # Read data from holidays.json\n",
    "    with open('holidays.json', 'r', encoding='utf-8') as file:\n",
    "        data = json.load(file)\n",
    "    \n",
    "    # Return the dictionary containing all calendar holidays\n",
    "    return {\n",
    "        'persian': data['PersianCalendarHolidays'],\n",
    "        'hijri': data['HijriCalendarHolidays'], \n",
    "        'gregorian': data['GregorianCalendarHolidays']\n",
    "    }"
   ]
  },
  {
   "cell_type": "code",
   "execution_count": null,
   "metadata": {},
   "outputs": [
    {
     "name": "stdout",
     "output_type": "stream",
     "text": [
      "Persian Calendar Holidays Sample:\n",
      "{'holiday': True, 'month': 1, 'day': 1, 'type': 'Iran', 'title': 'آغاز عید نوروز'}\n",
      "{'holiday': True, 'month': 1, 'day': 2, 'type': 'Iran', 'title': 'عید نوروز'}\n",
      "{'holiday': False, 'month': 1, 'day': 2, 'type': 'Iran', 'title': 'هجوم به مدرسهٔ فیضیهٔ قم (۱۳۴۲ ه\\u200d.ش)'}\n",
      "\n",
      "Hijri Calendar Holidays Sample:\n",
      "{'holiday': False, 'month': 1, 'day': 1, 'type': 'Islamic Iran', 'title': 'آغاز سال هجری قمری'}\n",
      "{'holiday': True, 'month': 1, 'day': 9, 'type': 'Islamic Iran', 'title': 'تاسوعای حسینی'}\n",
      "{'holiday': True, 'month': 1, 'day': 10, 'type': 'Islamic Iran', 'title': 'عاشورای حسینی'}\n",
      "\n",
      "Gregorian Calendar Holidays Sample:\n",
      "{'holiday': False, 'month': 1, 'day': 1, 'type': 'Global', 'title': 'آغاز سال میلادی'}\n",
      "{'holiday': False, 'month': 1, 'day': 2, 'type': 'Global', 'title': 'روز جهانی گمرک'}\n",
      "{'holiday': False, 'month': 2, 'day': 4, 'type': 'Global', 'title': 'روز جهانی سرطان'}\n"
     ]
    }
   ],
   "source": [
    "# Parse and get the holiday data \n",
    "holidays = parse_holidays_json()\n",
    "\n",
    "# Print some sample data\n",
    "print(\"Persian Calendar Holidays Sample:\")\n",
    "for h in holidays['persian'][:3]:\n",
    "    print(h)\n",
    "\n",
    "print(\"\\nHijri Calendar Holidays Sample:\") \n",
    "for h in holidays['hijri'][:3]:\n",
    "    print(h)\n",
    "\n",
    "print(\"\\nGregorian Calendar Holidays Sample:\")\n",
    "for h in holidays['gregorian'][:3]:\n",
    "    print(h)"
   ]
  },
  {
   "cell_type": "code",
   "execution_count": null,
   "metadata": {},
   "outputs": [
    {
     "name": "stdout",
     "output_type": "stream",
     "text": [
      "آغاز عید نوروز 1 1 Iran True\n",
      "آغاز سال هجری قمری 1 1 Islamic Iran False\n",
      "آغاز سال میلادی 1 1 Global False\n"
     ]
    }
   ],
   "source": [
    "# Create a calendar\n",
    "cal = Calendar()\n",
    "\n",
    "# Add events to the calendar\n",
    "for key, value in holidays.items():\n",
    "  for ev in holidays[key]:\n",
    "    print(ev['title'],ev['month'],ev['day'],ev['type'],ev['holiday'])\n",
    "    break\n",
    "  \n",
    "    ev['title'] #summary\n",
    "    year, ev['month'] , ev['day'] # dtstart, dtend\n",
    "    ev['type'] # description\n",
    "    ev['holiday'] # color\n",
    "    \n",
    "    # event = Event()\n",
    "    # event.add('summary', ev['title'])\n",
    "    # event.add('dtstart', datetime(ev['gregorian_year'], ev['gregorian_month'], ev['gregorian_day']).date())\n",
    "    # event.add('dtend', datetime(ev['gregorian_year'], ev['gregorian_month'], ev['gregorian_day']).date()+timedelta(days=1))\n",
    "    # event.add('description', '')\n",
    "    \n",
    "    # cal.add_component(event)\n"
   ]
  },
  {
   "cell_type": "code",
   "execution_count": null,
   "metadata": {},
   "outputs": [],
   "source": [
    "# Save the calendar to a file\n",
    "with open(f'{fileName}.ics', 'wb') as cal_file:\n",
    "  cal_file.write(cal.to_ical())"
   ]
  }
 ],
 "metadata": {
  "kernelspec": {
   "display_name": "venv",
   "language": "python",
   "name": "python3"
  },
  "language_info": {
   "codemirror_mode": {
    "name": "ipython",
    "version": 3
   },
   "file_extension": ".py",
   "mimetype": "text/x-python",
   "name": "python",
   "nbconvert_exporter": "python",
   "pygments_lexer": "ipython3",
   "version": "3.13.1"
  }
 },
 "nbformat": 4,
 "nbformat_minor": 2
}
