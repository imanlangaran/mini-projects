{
 "cells": [
  {
   "cell_type": "code",
   "execution_count": 1,
   "metadata": {},
   "outputs": [],
   "source": [
    "# import json\n",
    "\n",
    "# # Open and read the JSON file\n",
    "# with open('tempResponce.json', 'r') as file:\n",
    "#   data = json.load(file)\n",
    "\n",
    "# # Display the content of the JSON file\n",
    "# print(data)"
   ]
  },
  {
   "cell_type": "code",
   "execution_count": 2,
   "metadata": {},
   "outputs": [],
   "source": [
    "# install the icalendar module\n",
    "# %pip install icalendar"
   ]
  },
  {
   "cell_type": "code",
   "execution_count": 3,
   "metadata": {},
   "outputs": [],
   "source": [
    "import requests\n",
    "from icalendar import Calendar, Event\n",
    "from datetime import datetime, timedelta"
   ]
  },
  {
   "cell_type": "code",
   "execution_count": 4,
   "metadata": {},
   "outputs": [],
   "source": [
    "year = 1403\n",
    "fileName = f'PersianEvents_{year}'"
   ]
  },
  {
   "cell_type": "code",
   "execution_count": 5,
   "metadata": {},
   "outputs": [],
   "source": [
    "url = f'https://api.time.ir/v1/event/fa/events/yearlycalendar?year={year}'\n",
    "headers = {'x-api-key': 'ZAVdqwuySASubByCed5KYuYMzb9uB2f7'}\n",
    "\n",
    "response = requests.get(url, headers=headers)\n",
    "api_data = response.json()\n",
    "\n",
    "# Display the content of the API response\n",
    "# print(api_data)"
   ]
  },
  {
   "cell_type": "code",
   "execution_count": 6,
   "metadata": {},
   "outputs": [],
   "source": [
    "# Create a calendar\n",
    "cal = Calendar()\n",
    "\n",
    "# Add events to the calendar\n",
    "for mounth in api_data['data']:\n",
    "  for ev in mounth['event_list']:\n",
    "    \n",
    "    event = Event()\n",
    "    event.add('summary', ev['title'])\n",
    "    event.add('dtstart', datetime(ev['gregorian_year'], ev['gregorian_month'], ev['gregorian_day']).date())\n",
    "    event.add('dtend', datetime(ev['gregorian_year'], ev['gregorian_month'], ev['gregorian_day']).date()+timedelta(days=1))\n",
    "    # event.add('description', '')\n",
    "    \n",
    "    cal.add_component(event)\n",
    "\n",
    "\n",
    "# Save the calendar to a file\n",
    "with open(f'{fileName}.ics', 'wb') as cal_file:\n",
    "  cal_file.write(cal.to_ical())\n",
    "\n"
   ]
  }
 ],
 "metadata": {
  "kernelspec": {
   "display_name": "base",
   "language": "python",
   "name": "python3"
  },
  "language_info": {
   "codemirror_mode": {
    "name": "ipython",
    "version": 3
   },
   "file_extension": ".py",
   "mimetype": "text/x-python",
   "name": "python",
   "nbconvert_exporter": "python",
   "pygments_lexer": "ipython3",
   "version": "3.9.12"
  }
 },
 "nbformat": 4,
 "nbformat_minor": 2
}
